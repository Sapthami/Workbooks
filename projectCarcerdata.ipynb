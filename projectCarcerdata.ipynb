{
 "cells": [
  {
   "cell_type": "code",
   "execution_count": 10,
   "metadata": {
    "collapsed": true
   },
   "outputs": [],
   "source": [
    "from IPython.core.interactiveshell import InteractiveShell\n",
    "InteractiveShell.ast_node_interactivity = \"all\"\n",
    "\n",
    "import pandas as pd"
   ]
  },
  {
   "cell_type": "code",
   "execution_count": 11,
   "metadata": {
    "collapsed": false
   },
   "outputs": [],
   "source": [
    "df  = pd.read_csv('CancerData.csv')"
   ]
  },
  {
   "cell_type": "code",
   "execution_count": 12,
   "metadata": {
    "collapsed": false
   },
   "outputs": [
    {
     "data": {
      "text/html": [
       "<div>\n",
       "<table border=\"1\" class=\"dataframe\">\n",
       "  <thead>\n",
       "    <tr style=\"text-align: right;\">\n",
       "      <th></th>\n",
       "      <th>Race/ Ethnicity</th>\n",
       "      <th>Current Age</th>\n",
       "      <th>Risk of Being Diagnosed with Cancer,+10 yrs</th>\n",
       "      <th>Risk of Being Diagnosed with Cancer,+20 yrs</th>\n",
       "      <th>Risk of Being Diagnosed with Cancer,+30 yrs</th>\n",
       "      <th>Risk of Being Diagnosed with Cancer,Eventually</th>\n",
       "      <th>Risk of Dying from Cancer,Eventually</th>\n",
       "    </tr>\n",
       "  </thead>\n",
       "  <tbody>\n",
       "    <tr>\n",
       "      <th>0</th>\n",
       "      <td>All Races</td>\n",
       "      <td>0.0</td>\n",
       "      <td>0.04</td>\n",
       "      <td>0.06</td>\n",
       "      <td>0.09</td>\n",
       "      <td>0.62</td>\n",
       "      <td>0.47</td>\n",
       "    </tr>\n",
       "    <tr>\n",
       "      <th>1</th>\n",
       "      <td>All Races</td>\n",
       "      <td>10.0</td>\n",
       "      <td>0.03</td>\n",
       "      <td>0.05</td>\n",
       "      <td>0.08</td>\n",
       "      <td>0.59</td>\n",
       "      <td>0.47</td>\n",
       "    </tr>\n",
       "    <tr>\n",
       "      <th>2</th>\n",
       "      <td>All Races</td>\n",
       "      <td>20.0</td>\n",
       "      <td>0.03</td>\n",
       "      <td>0.06</td>\n",
       "      <td>0.1</td>\n",
       "      <td>0.57</td>\n",
       "      <td>0.46</td>\n",
       "    </tr>\n",
       "    <tr>\n",
       "      <th>3</th>\n",
       "      <td>All Races</td>\n",
       "      <td>30.0</td>\n",
       "      <td>0.03</td>\n",
       "      <td>0.08</td>\n",
       "      <td>0.16</td>\n",
       "      <td>0.54</td>\n",
       "      <td>0.46</td>\n",
       "    </tr>\n",
       "    <tr>\n",
       "      <th>4</th>\n",
       "      <td>All Races</td>\n",
       "      <td>40.0</td>\n",
       "      <td>0.05</td>\n",
       "      <td>0.13</td>\n",
       "      <td>0.25</td>\n",
       "      <td>0.52</td>\n",
       "      <td>0.45</td>\n",
       "    </tr>\n",
       "  </tbody>\n",
       "</table>\n",
       "</div>"
      ],
      "text/plain": [
       "     Race/ Ethnicity  Current Age  \\\n",
       "0  All Races                  0.0   \n",
       "1  All Races                 10.0   \n",
       "2  All Races                 20.0   \n",
       "3  All Races                 30.0   \n",
       "4  All Races                 40.0   \n",
       "\n",
       "   Risk of Being Diagnosed with Cancer,+10 yrs  \\\n",
       "0                                         0.04   \n",
       "1                                         0.03   \n",
       "2                                         0.03   \n",
       "3                                         0.03   \n",
       "4                                         0.05   \n",
       "\n",
       "  Risk of Being Diagnosed with Cancer,+20 yrs  \\\n",
       "0                                        0.06   \n",
       "1                                        0.05   \n",
       "2                                        0.06   \n",
       "3                                        0.08   \n",
       "4                                        0.13   \n",
       "\n",
       "  Risk of Being Diagnosed with Cancer,+30 yrs  \\\n",
       "0                                        0.09   \n",
       "1                                        0.08   \n",
       "2                                         0.1   \n",
       "3                                        0.16   \n",
       "4                                        0.25   \n",
       "\n",
       "   Risk of Being Diagnosed with Cancer,Eventually  \\\n",
       "0                                            0.62   \n",
       "1                                            0.59   \n",
       "2                                            0.57   \n",
       "3                                            0.54   \n",
       "4                                            0.52   \n",
       "\n",
       "   Risk of Dying from Cancer,Eventually  \n",
       "0                                  0.47  \n",
       "1                                  0.47  \n",
       "2                                  0.46  \n",
       "3                                  0.46  \n",
       "4                                  0.45  "
      ]
     },
     "execution_count": 12,
     "metadata": {},
     "output_type": "execute_result"
    }
   ],
   "source": [
    "df.head()"
   ]
  },
  {
   "cell_type": "code",
   "execution_count": 13,
   "metadata": {
    "collapsed": true
   },
   "outputs": [],
   "source": [
    "df.drop(['Risk of Being Diagnosed with Cancer,+10 yrs'],axis=1,inplace=True)"
   ]
  },
  {
   "cell_type": "code",
   "execution_count": 14,
   "metadata": {
    "collapsed": false
   },
   "outputs": [
    {
     "data": {
      "text/plain": [
       "Index([u'Race/ Ethnicity', u'Current Age',\n",
       "       u'Risk of Being Diagnosed with Cancer,+20 yrs',\n",
       "       u'Risk of Being Diagnosed with Cancer,+30 yrs',\n",
       "       u'Risk of Being Diagnosed with Cancer,Eventually',\n",
       "       u'Risk of Dying from Cancer,Eventually'],\n",
       "      dtype='object')"
      ]
     },
     "execution_count": 14,
     "metadata": {},
     "output_type": "execute_result"
    }
   ],
   "source": [
    "df.columns"
   ]
  },
  {
   "cell_type": "code",
   "execution_count": 15,
   "metadata": {
    "collapsed": true
   },
   "outputs": [],
   "source": [
    "df.drop(['Risk of Being Diagnosed with Cancer,+20 yrs'],axis=1,inplace=True)"
   ]
  },
  {
   "cell_type": "code",
   "execution_count": 16,
   "metadata": {
    "collapsed": true
   },
   "outputs": [],
   "source": [
    "df.drop(['Risk of Being Diagnosed with Cancer,+30 yrs'],axis=1,inplace=True)"
   ]
  },
  {
   "cell_type": "code",
   "execution_count": 17,
   "metadata": {
    "collapsed": false
   },
   "outputs": [
    {
     "data": {
      "text/plain": [
       "Index([u'Race/ Ethnicity', u'Current Age',\n",
       "       u'Risk of Being Diagnosed with Cancer,Eventually',\n",
       "       u'Risk of Dying from Cancer,Eventually'],\n",
       "      dtype='object')"
      ]
     },
     "execution_count": 17,
     "metadata": {},
     "output_type": "execute_result"
    }
   ],
   "source": [
    "df.columns"
   ]
  },
  {
   "cell_type": "code",
   "execution_count": 18,
   "metadata": {
    "collapsed": true
   },
   "outputs": [],
   "source": [
    "df.to_csv('cleaned_cancerdata.csv')"
   ]
  },
  {
   "cell_type": "code",
   "execution_count": 21,
   "metadata": {
    "collapsed": true
   },
   "outputs": [],
   "source": [
    "df  = pd.read_csv('Braincancer.csv')"
   ]
  },
  {
   "cell_type": "code",
   "execution_count": 22,
   "metadata": {
    "collapsed": false
   },
   "outputs": [
    {
     "data": {
      "text/html": [
       "<div>\n",
       "<table border=\"1\" class=\"dataframe\">\n",
       "  <thead>\n",
       "    <tr style=\"text-align: right;\">\n",
       "      <th></th>\n",
       "      <th>Year of Death</th>\n",
       "      <th>All Races,Both Sexes</th>\n",
       "      <th>All Races,Males</th>\n",
       "      <th>All Races,Females</th>\n",
       "      <th>Whites,Both Sexes</th>\n",
       "      <th>Whites,Males</th>\n",
       "      <th>Whites,Females</th>\n",
       "      <th>Blacks,Both Sexes</th>\n",
       "      <th>Blacks,Males</th>\n",
       "      <th>Blacks,Females</th>\n",
       "    </tr>\n",
       "  </thead>\n",
       "  <tbody>\n",
       "    <tr>\n",
       "      <th>0</th>\n",
       "      <td>1975</td>\n",
       "      <td>4.11</td>\n",
       "      <td>4.96</td>\n",
       "      <td>3.40</td>\n",
       "      <td>4.32</td>\n",
       "      <td>5.20</td>\n",
       "      <td>3.60</td>\n",
       "      <td>2.41</td>\n",
       "      <td>3.20</td>\n",
       "      <td>1.75</td>\n",
       "    </tr>\n",
       "    <tr>\n",
       "      <th>1</th>\n",
       "      <td>1976</td>\n",
       "      <td>4.34</td>\n",
       "      <td>5.28</td>\n",
       "      <td>3.56</td>\n",
       "      <td>4.54</td>\n",
       "      <td>5.50</td>\n",
       "      <td>3.74</td>\n",
       "      <td>2.66</td>\n",
       "      <td>3.54</td>\n",
       "      <td>1.98</td>\n",
       "    </tr>\n",
       "    <tr>\n",
       "      <th>2</th>\n",
       "      <td>1977</td>\n",
       "      <td>4.40</td>\n",
       "      <td>5.39</td>\n",
       "      <td>3.59</td>\n",
       "      <td>4.63</td>\n",
       "      <td>5.69</td>\n",
       "      <td>3.77</td>\n",
       "      <td>2.54</td>\n",
       "      <td>2.99</td>\n",
       "      <td>2.18</td>\n",
       "    </tr>\n",
       "    <tr>\n",
       "      <th>3</th>\n",
       "      <td>1978</td>\n",
       "      <td>4.53</td>\n",
       "      <td>5.54</td>\n",
       "      <td>3.71</td>\n",
       "      <td>4.76</td>\n",
       "      <td>5.82</td>\n",
       "      <td>3.91</td>\n",
       "      <td>2.70</td>\n",
       "      <td>3.36</td>\n",
       "      <td>2.18</td>\n",
       "    </tr>\n",
       "    <tr>\n",
       "      <th>4</th>\n",
       "      <td>1979</td>\n",
       "      <td>4.26</td>\n",
       "      <td>5.25</td>\n",
       "      <td>3.45</td>\n",
       "      <td>4.48</td>\n",
       "      <td>5.50</td>\n",
       "      <td>3.64</td>\n",
       "      <td>2.63</td>\n",
       "      <td>3.30</td>\n",
       "      <td>2.11</td>\n",
       "    </tr>\n",
       "  </tbody>\n",
       "</table>\n",
       "</div>"
      ],
      "text/plain": [
       "   Year of Death  All Races,Both Sexes  All Races,Males  All Races,Females  \\\n",
       "0           1975                  4.11             4.96               3.40   \n",
       "1           1976                  4.34             5.28               3.56   \n",
       "2           1977                  4.40             5.39               3.59   \n",
       "3           1978                  4.53             5.54               3.71   \n",
       "4           1979                  4.26             5.25               3.45   \n",
       "\n",
       "   Whites,Both Sexes  Whites,Males  Whites,Females  Blacks,Both Sexes  \\\n",
       "0               4.32          5.20            3.60               2.41   \n",
       "1               4.54          5.50            3.74               2.66   \n",
       "2               4.63          5.69            3.77               2.54   \n",
       "3               4.76          5.82            3.91               2.70   \n",
       "4               4.48          5.50            3.64               2.63   \n",
       "\n",
       "   Blacks,Males  Blacks,Females  \n",
       "0          3.20            1.75  \n",
       "1          3.54            1.98  \n",
       "2          2.99            2.18  \n",
       "3          3.36            2.18  \n",
       "4          3.30            2.11  "
      ]
     },
     "execution_count": 22,
     "metadata": {},
     "output_type": "execute_result"
    }
   ],
   "source": [
    "df.head()"
   ]
  },
  {
   "cell_type": "code",
   "execution_count": 23,
   "metadata": {
    "collapsed": true
   },
   "outputs": [],
   "source": [
    "df.drop(['Whites,Both Sexes'],axis=1,inplace=True)"
   ]
  },
  {
   "cell_type": "code",
   "execution_count": 24,
   "metadata": {
    "collapsed": true
   },
   "outputs": [],
   "source": [
    "df.drop(['Whites,Males'],axis=1,inplace=True)"
   ]
  },
  {
   "cell_type": "code",
   "execution_count": 25,
   "metadata": {
    "collapsed": true
   },
   "outputs": [],
   "source": [
    "df.drop(['Whites,Females'],axis=1,inplace=True)"
   ]
  },
  {
   "cell_type": "code",
   "execution_count": 26,
   "metadata": {
    "collapsed": true
   },
   "outputs": [],
   "source": [
    "df.drop(['Blacks,Both Sexes'],axis=1,inplace=True)"
   ]
  },
  {
   "cell_type": "code",
   "execution_count": 27,
   "metadata": {
    "collapsed": true
   },
   "outputs": [],
   "source": [
    "df.drop(['Blacks,Males'],axis=1,inplace=True)"
   ]
  },
  {
   "cell_type": "code",
   "execution_count": 28,
   "metadata": {
    "collapsed": true
   },
   "outputs": [],
   "source": [
    "df.drop(['Blacks,Females'],axis=1,inplace=True)"
   ]
  },
  {
   "cell_type": "code",
   "execution_count": 29,
   "metadata": {
    "collapsed": false
   },
   "outputs": [
    {
     "data": {
      "text/plain": [
       "Index([u'Year of Death', u'All Races,Both Sexes', u'All Races,Males',\n",
       "       u'All Races,Females'],\n",
       "      dtype='object')"
      ]
     },
     "execution_count": 29,
     "metadata": {},
     "output_type": "execute_result"
    }
   ],
   "source": [
    "df.columns"
   ]
  },
  {
   "cell_type": "code",
   "execution_count": 30,
   "metadata": {
    "collapsed": true
   },
   "outputs": [],
   "source": [
    "df.to_csv('cleaned_Braincancerdata.csv')"
   ]
  },
  {
   "cell_type": "code",
   "execution_count": null,
   "metadata": {
    "collapsed": true
   },
   "outputs": [],
   "source": []
  }
 ],
 "metadata": {
  "kernelspec": {
   "display_name": "Python 2",
   "language": "python",
   "name": "python2"
  },
  "language_info": {
   "codemirror_mode": {
    "name": "ipython",
    "version": 2
   },
   "file_extension": ".py",
   "mimetype": "text/x-python",
   "name": "python",
   "nbconvert_exporter": "python",
   "pygments_lexer": "ipython2",
   "version": "2.7.11"
  }
 },
 "nbformat": 4,
 "nbformat_minor": 0
}
