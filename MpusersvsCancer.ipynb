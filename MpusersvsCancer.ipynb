{
 "cells": [
  {
   "cell_type": "code",
   "execution_count": 72,
   "metadata": {
    "collapsed": true
   },
   "outputs": [],
   "source": [
    "from IPython.core.interactiveshell import InteractiveShell\n",
    "InteractiveShell.ast_node_interactivity = \"all\"\n",
    "\n",
    "import pandas as pd"
   ]
  },
  {
   "cell_type": "code",
   "execution_count": 73,
   "metadata": {
    "collapsed": true
   },
   "outputs": [],
   "source": [
    "result=pd.read_csv('Mobilephoneusers.csv')"
   ]
  },
  {
   "cell_type": "code",
   "execution_count": 74,
   "metadata": {
    "collapsed": false
   },
   "outputs": [
    {
     "data": {
      "text/html": [
       "<div>\n",
       "<table border=\"1\" class=\"dataframe\">\n",
       "  <thead>\n",
       "    <tr style=\"text-align: right;\">\n",
       "      <th></th>\n",
       "      <th>﻿Index</th>\n",
       "      <th>Country Name</th>\n",
       "      <th>Country Code</th>\n",
       "      <th>Indicator Name</th>\n",
       "      <th>1960</th>\n",
       "      <th>1961</th>\n",
       "      <th>1962</th>\n",
       "      <th>1963</th>\n",
       "      <th>1964</th>\n",
       "      <th>1965</th>\n",
       "      <th>...</th>\n",
       "      <th>2007</th>\n",
       "      <th>2008</th>\n",
       "      <th>2009</th>\n",
       "      <th>2010</th>\n",
       "      <th>2011</th>\n",
       "      <th>2012</th>\n",
       "      <th>2013</th>\n",
       "      <th>2014</th>\n",
       "      <th>2015</th>\n",
       "      <th>2016</th>\n",
       "    </tr>\n",
       "  </thead>\n",
       "  <tbody>\n",
       "    <tr>\n",
       "      <th>0</th>\n",
       "      <td>1</td>\n",
       "      <td>Aruba</td>\n",
       "      <td>ABW</td>\n",
       "      <td>Mobile cellular subscriptions (per 100 people)</td>\n",
       "      <td>0.0</td>\n",
       "      <td>NaN</td>\n",
       "      <td>NaN</td>\n",
       "      <td>NaN</td>\n",
       "      <td>NaN</td>\n",
       "      <td>0.0</td>\n",
       "      <td>...</td>\n",
       "      <td>112.218062</td>\n",
       "      <td>119.203900</td>\n",
       "      <td>126.210337</td>\n",
       "      <td>129.728240</td>\n",
       "      <td>NaN</td>\n",
       "      <td>131.856540</td>\n",
       "      <td>134.873823</td>\n",
       "      <td>135.065889</td>\n",
       "      <td>135.721780</td>\n",
       "      <td>NaN</td>\n",
       "    </tr>\n",
       "    <tr>\n",
       "      <th>1</th>\n",
       "      <td>2</td>\n",
       "      <td>Afghanistan</td>\n",
       "      <td>AFG</td>\n",
       "      <td>Mobile cellular subscriptions (per 100 people)</td>\n",
       "      <td>0.0</td>\n",
       "      <td>NaN</td>\n",
       "      <td>NaN</td>\n",
       "      <td>NaN</td>\n",
       "      <td>NaN</td>\n",
       "      <td>0.0</td>\n",
       "      <td>...</td>\n",
       "      <td>17.716243</td>\n",
       "      <td>29.220374</td>\n",
       "      <td>37.894937</td>\n",
       "      <td>35.974039</td>\n",
       "      <td>47.406464</td>\n",
       "      <td>51.434547</td>\n",
       "      <td>55.012226</td>\n",
       "      <td>58.845471</td>\n",
       "      <td>61.577682</td>\n",
       "      <td>NaN</td>\n",
       "    </tr>\n",
       "    <tr>\n",
       "      <th>2</th>\n",
       "      <td>3</td>\n",
       "      <td>Angola</td>\n",
       "      <td>AGO</td>\n",
       "      <td>Mobile cellular subscriptions (per 100 people)</td>\n",
       "      <td>0.0</td>\n",
       "      <td>NaN</td>\n",
       "      <td>NaN</td>\n",
       "      <td>NaN</td>\n",
       "      <td>NaN</td>\n",
       "      <td>0.0</td>\n",
       "      <td>...</td>\n",
       "      <td>28.010982</td>\n",
       "      <td>36.983690</td>\n",
       "      <td>42.846573</td>\n",
       "      <td>48.101209</td>\n",
       "      <td>59.826189</td>\n",
       "      <td>61.406276</td>\n",
       "      <td>61.873297</td>\n",
       "      <td>63.479208</td>\n",
       "      <td>60.843896</td>\n",
       "      <td>NaN</td>\n",
       "    </tr>\n",
       "    <tr>\n",
       "      <th>3</th>\n",
       "      <td>4</td>\n",
       "      <td>Albania</td>\n",
       "      <td>ALB</td>\n",
       "      <td>Mobile cellular subscriptions (per 100 people)</td>\n",
       "      <td>0.0</td>\n",
       "      <td>NaN</td>\n",
       "      <td>NaN</td>\n",
       "      <td>NaN</td>\n",
       "      <td>NaN</td>\n",
       "      <td>0.0</td>\n",
       "      <td>...</td>\n",
       "      <td>73.350384</td>\n",
       "      <td>58.912351</td>\n",
       "      <td>78.184588</td>\n",
       "      <td>85.468247</td>\n",
       "      <td>98.291535</td>\n",
       "      <td>110.686532</td>\n",
       "      <td>116.157208</td>\n",
       "      <td>105.469966</td>\n",
       "      <td>106.380207</td>\n",
       "      <td>NaN</td>\n",
       "    </tr>\n",
       "    <tr>\n",
       "      <th>4</th>\n",
       "      <td>5</td>\n",
       "      <td>Andorra</td>\n",
       "      <td>AND</td>\n",
       "      <td>Mobile cellular subscriptions (per 100 people)</td>\n",
       "      <td>0.0</td>\n",
       "      <td>NaN</td>\n",
       "      <td>NaN</td>\n",
       "      <td>NaN</td>\n",
       "      <td>NaN</td>\n",
       "      <td>0.0</td>\n",
       "      <td>...</td>\n",
       "      <td>78.117158</td>\n",
       "      <td>80.283610</td>\n",
       "      <td>82.061811</td>\n",
       "      <td>84.068184</td>\n",
       "      <td>83.534322</td>\n",
       "      <td>81.502042</td>\n",
       "      <td>80.702618</td>\n",
       "      <td>82.643195</td>\n",
       "      <td>88.123533</td>\n",
       "      <td>NaN</td>\n",
       "    </tr>\n",
       "  </tbody>\n",
       "</table>\n",
       "<p>5 rows × 61 columns</p>\n",
       "</div>"
      ],
      "text/plain": [
       "   ﻿Index Country Name Country Code  \\\n",
       "0       1        Aruba          ABW   \n",
       "1       2  Afghanistan          AFG   \n",
       "2       3       Angola          AGO   \n",
       "3       4      Albania          ALB   \n",
       "4       5      Andorra          AND   \n",
       "\n",
       "                                   Indicator Name  1960  1961  1962  1963  \\\n",
       "0  Mobile cellular subscriptions (per 100 people)   0.0   NaN   NaN   NaN   \n",
       "1  Mobile cellular subscriptions (per 100 people)   0.0   NaN   NaN   NaN   \n",
       "2  Mobile cellular subscriptions (per 100 people)   0.0   NaN   NaN   NaN   \n",
       "3  Mobile cellular subscriptions (per 100 people)   0.0   NaN   NaN   NaN   \n",
       "4  Mobile cellular subscriptions (per 100 people)   0.0   NaN   NaN   NaN   \n",
       "\n",
       "   1964  1965  ...         2007        2008        2009        2010  \\\n",
       "0   NaN   0.0  ...   112.218062  119.203900  126.210337  129.728240   \n",
       "1   NaN   0.0  ...    17.716243   29.220374   37.894937   35.974039   \n",
       "2   NaN   0.0  ...    28.010982   36.983690   42.846573   48.101209   \n",
       "3   NaN   0.0  ...    73.350384   58.912351   78.184588   85.468247   \n",
       "4   NaN   0.0  ...    78.117158   80.283610   82.061811   84.068184   \n",
       "\n",
       "        2011        2012        2013        2014        2015  2016  \n",
       "0        NaN  131.856540  134.873823  135.065889  135.721780   NaN  \n",
       "1  47.406464   51.434547   55.012226   58.845471   61.577682   NaN  \n",
       "2  59.826189   61.406276   61.873297   63.479208   60.843896   NaN  \n",
       "3  98.291535  110.686532  116.157208  105.469966  106.380207   NaN  \n",
       "4  83.534322   81.502042   80.702618   82.643195   88.123533   NaN  \n",
       "\n",
       "[5 rows x 61 columns]"
      ]
     },
     "execution_count": 74,
     "metadata": {},
     "output_type": "execute_result"
    }
   ],
   "source": [
    "result.head()"
   ]
  },
  {
   "cell_type": "code",
   "execution_count": 75,
   "metadata": {
    "collapsed": true
   },
   "outputs": [],
   "source": [
    "result=result.rename(columns = {'Country Name':'CountryName'})"
   ]
  },
  {
   "cell_type": "code",
   "execution_count": 76,
   "metadata": {
    "collapsed": true
   },
   "outputs": [],
   "source": [
    "result=result.rename(columns = {'Country Code':'CountryCode'})"
   ]
  },
  {
   "cell_type": "code",
   "execution_count": 77,
   "metadata": {
    "collapsed": true
   },
   "outputs": [],
   "source": [
    "result=result.rename(columns = {'Indicator Name':'IndicatorName'})"
   ]
  },
  {
   "cell_type": "code",
   "execution_count": 78,
   "metadata": {
    "collapsed": false
   },
   "outputs": [
    {
     "data": {
      "text/html": [
       "<div>\n",
       "<table border=\"1\" class=\"dataframe\">\n",
       "  <thead>\n",
       "    <tr style=\"text-align: right;\">\n",
       "      <th></th>\n",
       "      <th>﻿Index</th>\n",
       "      <th>CountryName</th>\n",
       "      <th>CountryCode</th>\n",
       "      <th>IndicatorName</th>\n",
       "      <th>1960</th>\n",
       "      <th>1961</th>\n",
       "      <th>1962</th>\n",
       "      <th>1963</th>\n",
       "      <th>1964</th>\n",
       "      <th>1965</th>\n",
       "      <th>...</th>\n",
       "      <th>2007</th>\n",
       "      <th>2008</th>\n",
       "      <th>2009</th>\n",
       "      <th>2010</th>\n",
       "      <th>2011</th>\n",
       "      <th>2012</th>\n",
       "      <th>2013</th>\n",
       "      <th>2014</th>\n",
       "      <th>2015</th>\n",
       "      <th>2016</th>\n",
       "    </tr>\n",
       "  </thead>\n",
       "  <tbody>\n",
       "    <tr>\n",
       "      <th>0</th>\n",
       "      <td>1</td>\n",
       "      <td>Aruba</td>\n",
       "      <td>ABW</td>\n",
       "      <td>Mobile cellular subscriptions (per 100 people)</td>\n",
       "      <td>0.0</td>\n",
       "      <td>NaN</td>\n",
       "      <td>NaN</td>\n",
       "      <td>NaN</td>\n",
       "      <td>NaN</td>\n",
       "      <td>0.0</td>\n",
       "      <td>...</td>\n",
       "      <td>112.218062</td>\n",
       "      <td>119.203900</td>\n",
       "      <td>126.210337</td>\n",
       "      <td>129.728240</td>\n",
       "      <td>NaN</td>\n",
       "      <td>131.856540</td>\n",
       "      <td>134.873823</td>\n",
       "      <td>135.065889</td>\n",
       "      <td>135.721780</td>\n",
       "      <td>NaN</td>\n",
       "    </tr>\n",
       "    <tr>\n",
       "      <th>1</th>\n",
       "      <td>2</td>\n",
       "      <td>Afghanistan</td>\n",
       "      <td>AFG</td>\n",
       "      <td>Mobile cellular subscriptions (per 100 people)</td>\n",
       "      <td>0.0</td>\n",
       "      <td>NaN</td>\n",
       "      <td>NaN</td>\n",
       "      <td>NaN</td>\n",
       "      <td>NaN</td>\n",
       "      <td>0.0</td>\n",
       "      <td>...</td>\n",
       "      <td>17.716243</td>\n",
       "      <td>29.220374</td>\n",
       "      <td>37.894937</td>\n",
       "      <td>35.974039</td>\n",
       "      <td>47.406464</td>\n",
       "      <td>51.434547</td>\n",
       "      <td>55.012226</td>\n",
       "      <td>58.845471</td>\n",
       "      <td>61.577682</td>\n",
       "      <td>NaN</td>\n",
       "    </tr>\n",
       "    <tr>\n",
       "      <th>2</th>\n",
       "      <td>3</td>\n",
       "      <td>Angola</td>\n",
       "      <td>AGO</td>\n",
       "      <td>Mobile cellular subscriptions (per 100 people)</td>\n",
       "      <td>0.0</td>\n",
       "      <td>NaN</td>\n",
       "      <td>NaN</td>\n",
       "      <td>NaN</td>\n",
       "      <td>NaN</td>\n",
       "      <td>0.0</td>\n",
       "      <td>...</td>\n",
       "      <td>28.010982</td>\n",
       "      <td>36.983690</td>\n",
       "      <td>42.846573</td>\n",
       "      <td>48.101209</td>\n",
       "      <td>59.826189</td>\n",
       "      <td>61.406276</td>\n",
       "      <td>61.873297</td>\n",
       "      <td>63.479208</td>\n",
       "      <td>60.843896</td>\n",
       "      <td>NaN</td>\n",
       "    </tr>\n",
       "    <tr>\n",
       "      <th>3</th>\n",
       "      <td>4</td>\n",
       "      <td>Albania</td>\n",
       "      <td>ALB</td>\n",
       "      <td>Mobile cellular subscriptions (per 100 people)</td>\n",
       "      <td>0.0</td>\n",
       "      <td>NaN</td>\n",
       "      <td>NaN</td>\n",
       "      <td>NaN</td>\n",
       "      <td>NaN</td>\n",
       "      <td>0.0</td>\n",
       "      <td>...</td>\n",
       "      <td>73.350384</td>\n",
       "      <td>58.912351</td>\n",
       "      <td>78.184588</td>\n",
       "      <td>85.468247</td>\n",
       "      <td>98.291535</td>\n",
       "      <td>110.686532</td>\n",
       "      <td>116.157208</td>\n",
       "      <td>105.469966</td>\n",
       "      <td>106.380207</td>\n",
       "      <td>NaN</td>\n",
       "    </tr>\n",
       "    <tr>\n",
       "      <th>4</th>\n",
       "      <td>5</td>\n",
       "      <td>Andorra</td>\n",
       "      <td>AND</td>\n",
       "      <td>Mobile cellular subscriptions (per 100 people)</td>\n",
       "      <td>0.0</td>\n",
       "      <td>NaN</td>\n",
       "      <td>NaN</td>\n",
       "      <td>NaN</td>\n",
       "      <td>NaN</td>\n",
       "      <td>0.0</td>\n",
       "      <td>...</td>\n",
       "      <td>78.117158</td>\n",
       "      <td>80.283610</td>\n",
       "      <td>82.061811</td>\n",
       "      <td>84.068184</td>\n",
       "      <td>83.534322</td>\n",
       "      <td>81.502042</td>\n",
       "      <td>80.702618</td>\n",
       "      <td>82.643195</td>\n",
       "      <td>88.123533</td>\n",
       "      <td>NaN</td>\n",
       "    </tr>\n",
       "  </tbody>\n",
       "</table>\n",
       "<p>5 rows × 61 columns</p>\n",
       "</div>"
      ],
      "text/plain": [
       "   ﻿Index  CountryName CountryCode  \\\n",
       "0       1        Aruba         ABW   \n",
       "1       2  Afghanistan         AFG   \n",
       "2       3       Angola         AGO   \n",
       "3       4      Albania         ALB   \n",
       "4       5      Andorra         AND   \n",
       "\n",
       "                                    IndicatorName  1960  1961  1962  1963  \\\n",
       "0  Mobile cellular subscriptions (per 100 people)   0.0   NaN   NaN   NaN   \n",
       "1  Mobile cellular subscriptions (per 100 people)   0.0   NaN   NaN   NaN   \n",
       "2  Mobile cellular subscriptions (per 100 people)   0.0   NaN   NaN   NaN   \n",
       "3  Mobile cellular subscriptions (per 100 people)   0.0   NaN   NaN   NaN   \n",
       "4  Mobile cellular subscriptions (per 100 people)   0.0   NaN   NaN   NaN   \n",
       "\n",
       "   1964  1965  ...         2007        2008        2009        2010  \\\n",
       "0   NaN   0.0  ...   112.218062  119.203900  126.210337  129.728240   \n",
       "1   NaN   0.0  ...    17.716243   29.220374   37.894937   35.974039   \n",
       "2   NaN   0.0  ...    28.010982   36.983690   42.846573   48.101209   \n",
       "3   NaN   0.0  ...    73.350384   58.912351   78.184588   85.468247   \n",
       "4   NaN   0.0  ...    78.117158   80.283610   82.061811   84.068184   \n",
       "\n",
       "        2011        2012        2013        2014        2015  2016  \n",
       "0        NaN  131.856540  134.873823  135.065889  135.721780   NaN  \n",
       "1  47.406464   51.434547   55.012226   58.845471   61.577682   NaN  \n",
       "2  59.826189   61.406276   61.873297   63.479208   60.843896   NaN  \n",
       "3  98.291535  110.686532  116.157208  105.469966  106.380207   NaN  \n",
       "4  83.534322   81.502042   80.702618   82.643195   88.123533   NaN  \n",
       "\n",
       "[5 rows x 61 columns]"
      ]
     },
     "execution_count": 78,
     "metadata": {},
     "output_type": "execute_result"
    }
   ],
   "source": [
    "result.head()"
   ]
  },
  {
   "cell_type": "code",
   "execution_count": 79,
   "metadata": {
    "collapsed": false
   },
   "outputs": [],
   "source": [
    "result.drop(['CountryCode','IndicatorName','1960','1961','1962','1963','1964','1965','1966','1967','1968','1969','1970','1971','1972','1973','1974'],axis=1,inplace=True)"
   ]
  },
  {
   "cell_type": "code",
   "execution_count": 80,
   "metadata": {
    "collapsed": false
   },
   "outputs": [
    {
     "data": {
      "text/plain": [
       "Index([u'﻿Index', u'CountryName', u'1975', u'1976', u'1977', u'1978', u'1979',\n",
       "       u'1980', u'1981', u'1982', u'1983', u'1984', u'1985', u'1986', u'1987',\n",
       "       u'1988', u'1989', u'1990', u'1991', u'1992', u'1993', u'1994', u'1995',\n",
       "       u'1996', u'1997', u'1998', u'1999', u'2000', u'2001', u'2002', u'2003',\n",
       "       u'2004', u'2005', u'2006', u'2007', u'2008', u'2009', u'2010', u'2011',\n",
       "       u'2012', u'2013', u'2014', u'2015', u'2016'],\n",
       "      dtype='object')"
      ]
     },
     "execution_count": 80,
     "metadata": {},
     "output_type": "execute_result"
    }
   ],
   "source": [
    "result.columns"
   ]
  },
  {
   "cell_type": "code",
   "execution_count": 81,
   "metadata": {
    "collapsed": false
   },
   "outputs": [],
   "source": [
    "result=result.ix[result.CountryName=='United States']"
   ]
  },
  {
   "cell_type": "code",
   "execution_count": 82,
   "metadata": {
    "collapsed": false
   },
   "outputs": [
    {
     "data": {
      "text/html": [
       "<div>\n",
       "<table border=\"1\" class=\"dataframe\">\n",
       "  <thead>\n",
       "    <tr style=\"text-align: right;\">\n",
       "      <th></th>\n",
       "      <th>﻿Index</th>\n",
       "      <th>CountryName</th>\n",
       "      <th>1975</th>\n",
       "      <th>1976</th>\n",
       "      <th>1977</th>\n",
       "      <th>1978</th>\n",
       "      <th>1979</th>\n",
       "      <th>1980</th>\n",
       "      <th>1981</th>\n",
       "      <th>1982</th>\n",
       "      <th>...</th>\n",
       "      <th>2007</th>\n",
       "      <th>2008</th>\n",
       "      <th>2009</th>\n",
       "      <th>2010</th>\n",
       "      <th>2011</th>\n",
       "      <th>2012</th>\n",
       "      <th>2013</th>\n",
       "      <th>2014</th>\n",
       "      <th>2015</th>\n",
       "      <th>2016</th>\n",
       "    </tr>\n",
       "  </thead>\n",
       "  <tbody>\n",
       "    <tr>\n",
       "      <th>249</th>\n",
       "      <td>250</td>\n",
       "      <td>United States</td>\n",
       "      <td>0.0</td>\n",
       "      <td>0.0</td>\n",
       "      <td>0.0</td>\n",
       "      <td>0.0</td>\n",
       "      <td>0.0</td>\n",
       "      <td>0.0</td>\n",
       "      <td>NaN</td>\n",
       "      <td>NaN</td>\n",
       "      <td>...</td>\n",
       "      <td>82.064145</td>\n",
       "      <td>85.209165</td>\n",
       "      <td>88.623646</td>\n",
       "      <td>91.311652</td>\n",
       "      <td>94.440426</td>\n",
       "      <td>96.010376</td>\n",
       "      <td>97.077739</td>\n",
       "      <td>110.204194</td>\n",
       "      <td>117.586744</td>\n",
       "      <td>NaN</td>\n",
       "    </tr>\n",
       "  </tbody>\n",
       "</table>\n",
       "<p>1 rows × 44 columns</p>\n",
       "</div>"
      ],
      "text/plain": [
       "     ﻿Index    CountryName  1975  1976  1977  1978  1979  1980  1981  1982  \\\n",
       "249     250  United States   0.0   0.0   0.0   0.0   0.0   0.0   NaN   NaN   \n",
       "\n",
       "     ...        2007       2008       2009       2010       2011       2012  \\\n",
       "249  ...   82.064145  85.209165  88.623646  91.311652  94.440426  96.010376   \n",
       "\n",
       "          2013        2014        2015  2016  \n",
       "249  97.077739  110.204194  117.586744   NaN  \n",
       "\n",
       "[1 rows x 44 columns]"
      ]
     },
     "execution_count": 82,
     "metadata": {},
     "output_type": "execute_result"
    }
   ],
   "source": [
    "result.head()"
   ]
  },
  {
   "cell_type": "code",
   "execution_count": 50,
   "metadata": {
    "collapsed": false
   },
   "outputs": [],
   "source": [
    "result.to_csv('cleaned_mpusers.csv')"
   ]
  },
  {
   "cell_type": "code",
   "execution_count": 83,
   "metadata": {
    "collapsed": true
   },
   "outputs": [],
   "source": [
    "results=result.drop(['CountryName'],axis=1,inplace=True)"
   ]
  },
  {
   "cell_type": "raw",
   "metadata": {},
   "source": [
    "results.head()"
   ]
  },
  {
   "cell_type": "raw",
   "metadata": {},
   "source": [
    "results=results.T"
   ]
  },
  {
   "cell_type": "code",
   "execution_count": 133,
   "metadata": {
    "collapsed": true
   },
   "outputs": [],
   "source": [
    "from IPython.core.interactiveshell import InteractiveShell\n",
    "InteractiveShell.ast_node_interactivity = \"all\"\n",
    "\n",
    "import pandas as pd"
   ]
  },
  {
   "cell_type": "code",
   "execution_count": 134,
   "metadata": {
    "collapsed": true
   },
   "outputs": [],
   "source": [
    "result=pd.read_csv('mpusers.csv')"
   ]
  },
  {
   "cell_type": "raw",
   "metadata": {},
   "source": [
    "result.head()"
   ]
  },
  {
   "cell_type": "code",
   "execution_count": 135,
   "metadata": {
    "collapsed": false
   },
   "outputs": [
    {
     "data": {
      "text/html": [
       "<div>\n",
       "<table border=\"1\" class=\"dataframe\">\n",
       "  <thead>\n",
       "    <tr style=\"text-align: right;\">\n",
       "      <th></th>\n",
       "      <th>year</th>\n",
       "      <th>values</th>\n",
       "    </tr>\n",
       "  </thead>\n",
       "  <tbody>\n",
       "    <tr>\n",
       "      <th>0</th>\n",
       "      <td>1975</td>\n",
       "      <td>0.0</td>\n",
       "    </tr>\n",
       "    <tr>\n",
       "      <th>1</th>\n",
       "      <td>1976</td>\n",
       "      <td>0.0</td>\n",
       "    </tr>\n",
       "    <tr>\n",
       "      <th>2</th>\n",
       "      <td>1977</td>\n",
       "      <td>0.0</td>\n",
       "    </tr>\n",
       "    <tr>\n",
       "      <th>3</th>\n",
       "      <td>1978</td>\n",
       "      <td>0.0</td>\n",
       "    </tr>\n",
       "    <tr>\n",
       "      <th>4</th>\n",
       "      <td>1979</td>\n",
       "      <td>0.0</td>\n",
       "    </tr>\n",
       "  </tbody>\n",
       "</table>\n",
       "</div>"
      ],
      "text/plain": [
       "   year   values\n",
       "0   1975     0.0\n",
       "1   1976     0.0\n",
       "2   1977     0.0\n",
       "3   1978     0.0\n",
       "4   1979     0.0"
      ]
     },
     "execution_count": 135,
     "metadata": {},
     "output_type": "execute_result"
    }
   ],
   "source": [
    "result.head()"
   ]
  },
  {
   "cell_type": "raw",
   "metadata": {},
   "source": [
    "result.iloc[1]"
   ]
  },
  {
   "cell_type": "code",
   "execution_count": 136,
   "metadata": {
    "collapsed": false
   },
   "outputs": [
    {
     "data": {
      "text/plain": [
       "0          0.000000\n",
       "1          0.000000\n",
       "2          0.000000\n",
       "3          0.000000\n",
       "4          0.000000\n",
       "5          0.000000\n",
       "6          0.000000\n",
       "7          0.000000\n",
       "8          0.000000\n",
       "9         38.253436\n",
       "10       140.659444\n",
       "11       279.060364\n",
       "12       498.659917\n",
       "13       829.863407\n",
       "14      1392.817030\n",
       "15      2075.802366\n",
       "16      2939.643902\n",
       "17      4249.049037\n",
       "18      6103.716586\n",
       "19      9104.921407\n",
       "20     12604.724900\n",
       "21     16238.152480\n",
       "22     20142.384840\n",
       "23     24890.639520\n",
       "24     30576.102980\n",
       "25     38468.091050\n",
       "26     44690.578740\n",
       "27     48851.038220\n",
       "28     54846.814090\n",
       "29     62547.195980\n",
       "30     68317.695070\n",
       "31     76293.538420\n",
       "32     82064.144790\n",
       "33     85209.165170\n",
       "34     88623.646110\n",
       "35     91311.652020\n",
       "36     94440.425960\n",
       "37     96010.376090\n",
       "38     97077.739390\n",
       "39    110204.193500\n",
       "40    117586.744400\n",
       "Name: values, dtype: float64"
      ]
     },
     "execution_count": 136,
     "metadata": {},
     "output_type": "execute_result"
    }
   ],
   "source": [
    "result['values']*1000"
   ]
  },
  {
   "cell_type": "code",
   "execution_count": 137,
   "metadata": {
    "collapsed": false
   },
   "outputs": [
    {
     "data": {
      "text/html": [
       "<div>\n",
       "<table border=\"1\" class=\"dataframe\">\n",
       "  <thead>\n",
       "    <tr style=\"text-align: right;\">\n",
       "      <th></th>\n",
       "      <th>year</th>\n",
       "      <th>values</th>\n",
       "    </tr>\n",
       "  </thead>\n",
       "  <tbody>\n",
       "    <tr>\n",
       "      <th>0</th>\n",
       "      <td>1975</td>\n",
       "      <td>0.0</td>\n",
       "    </tr>\n",
       "    <tr>\n",
       "      <th>1</th>\n",
       "      <td>1976</td>\n",
       "      <td>0.0</td>\n",
       "    </tr>\n",
       "    <tr>\n",
       "      <th>2</th>\n",
       "      <td>1977</td>\n",
       "      <td>0.0</td>\n",
       "    </tr>\n",
       "    <tr>\n",
       "      <th>3</th>\n",
       "      <td>1978</td>\n",
       "      <td>0.0</td>\n",
       "    </tr>\n",
       "    <tr>\n",
       "      <th>4</th>\n",
       "      <td>1979</td>\n",
       "      <td>0.0</td>\n",
       "    </tr>\n",
       "  </tbody>\n",
       "</table>\n",
       "</div>"
      ],
      "text/plain": [
       "   year   values\n",
       "0   1975     0.0\n",
       "1   1976     0.0\n",
       "2   1977     0.0\n",
       "3   1978     0.0\n",
       "4   1979     0.0"
      ]
     },
     "execution_count": 137,
     "metadata": {},
     "output_type": "execute_result"
    }
   ],
   "source": [
    "result.head()"
   ]
  },
  {
   "cell_type": "code",
   "execution_count": 130,
   "metadata": {
    "collapsed": false
   },
   "outputs": [
    {
     "data": {
      "text/plain": [
       "0    0.0\n",
       "1    0.0\n",
       "2    0.0\n",
       "3    0.0\n",
       "4    0.0\n",
       "Name: values, dtype: float64"
      ]
     },
     "execution_count": 130,
     "metadata": {},
     "output_type": "execute_result"
    }
   ],
   "source": [
    "result.head()"
   ]
  },
  {
   "cell_type": "code",
   "execution_count": 101,
   "metadata": {
    "collapsed": false
   },
   "outputs": [
    {
     "data": {
      "text/plain": [
       "0.0"
      ]
     },
     "execution_count": 101,
     "metadata": {},
     "output_type": "execute_result"
    }
   ],
   "source": [
    "result"
   ]
  },
  {
   "cell_type": "code",
   "execution_count": 102,
   "metadata": {
    "collapsed": false
   },
   "outputs": [
    {
     "ename": "AttributeError",
     "evalue": "'numpy.float64' object has no attribute 'head'",
     "output_type": "error",
     "traceback": [
      "\u001b[1;31m---------------------------------------------------------------------------\u001b[0m",
      "\u001b[1;31mAttributeError\u001b[0m                            Traceback (most recent call last)",
      "\u001b[1;32m<ipython-input-102-d216f243180a>\u001b[0m in \u001b[0;36m<module>\u001b[1;34m()\u001b[0m\n\u001b[1;32m----> 1\u001b[1;33m \u001b[0mresult\u001b[0m\u001b[1;33m.\u001b[0m\u001b[0mhead\u001b[0m\u001b[1;33m(\u001b[0m\u001b[1;33m)\u001b[0m\u001b[1;33m\u001b[0m\u001b[0m\n\u001b[0m",
      "\u001b[1;31mAttributeError\u001b[0m: 'numpy.float64' object has no attribute 'head'"
     ]
    }
   ],
   "source": [
    "result.head()"
   ]
  },
  {
   "cell_type": "code",
   "execution_count": null,
   "metadata": {
    "collapsed": true
   },
   "outputs": [],
   "source": []
  }
 ],
 "metadata": {
  "kernelspec": {
   "display_name": "Python 2",
   "language": "python",
   "name": "python2"
  },
  "language_info": {
   "codemirror_mode": {
    "name": "ipython",
    "version": 2
   },
   "file_extension": ".py",
   "mimetype": "text/x-python",
   "name": "python",
   "nbconvert_exporter": "python",
   "pygments_lexer": "ipython2",
   "version": "2.7.11"
  }
 },
 "nbformat": 4,
 "nbformat_minor": 0
}
