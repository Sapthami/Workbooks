{
 "cells": [
  {
   "cell_type": "code",
   "execution_count": 248,
   "metadata": {
    "collapsed": true
   },
   "outputs": [],
   "source": [
    "from IPython.core.interactiveshell import InteractiveShell\n",
    "InteractiveShell.ast_node_interactivity = \"all\"\n",
    "\n",
    "import pandas as pd"
   ]
  },
  {
   "cell_type": "code",
   "execution_count": 142,
   "metadata": {
    "collapsed": true
   },
   "outputs": [],
   "source": [
    "df  = pd.read_csv('Mobilephoneusers.csv')"
   ]
  },
  {
   "cell_type": "code",
   "execution_count": 143,
   "metadata": {
    "collapsed": false
   },
   "outputs": [
    {
     "data": {
      "text/html": [
       "<div>\n",
       "<table border=\"1\" class=\"dataframe\">\n",
       "  <thead>\n",
       "    <tr style=\"text-align: right;\">\n",
       "      <th></th>\n",
       "      <th>﻿Index</th>\n",
       "      <th>Country Name</th>\n",
       "      <th>Country Code</th>\n",
       "      <th>Indicator Name</th>\n",
       "      <th>1960</th>\n",
       "      <th>1961</th>\n",
       "      <th>1962</th>\n",
       "      <th>1963</th>\n",
       "      <th>1964</th>\n",
       "      <th>1965</th>\n",
       "      <th>...</th>\n",
       "      <th>2007</th>\n",
       "      <th>2008</th>\n",
       "      <th>2009</th>\n",
       "      <th>2010</th>\n",
       "      <th>2011</th>\n",
       "      <th>2012</th>\n",
       "      <th>2013</th>\n",
       "      <th>2014</th>\n",
       "      <th>2015</th>\n",
       "      <th>2016</th>\n",
       "    </tr>\n",
       "  </thead>\n",
       "  <tbody>\n",
       "    <tr>\n",
       "      <th>0</th>\n",
       "      <td>1</td>\n",
       "      <td>Aruba</td>\n",
       "      <td>ABW</td>\n",
       "      <td>Mobile cellular subscriptions (per 100 people)</td>\n",
       "      <td>0.0</td>\n",
       "      <td>NaN</td>\n",
       "      <td>NaN</td>\n",
       "      <td>NaN</td>\n",
       "      <td>NaN</td>\n",
       "      <td>0.0</td>\n",
       "      <td>...</td>\n",
       "      <td>112.218062</td>\n",
       "      <td>119.203900</td>\n",
       "      <td>126.210337</td>\n",
       "      <td>129.728240</td>\n",
       "      <td>NaN</td>\n",
       "      <td>131.856540</td>\n",
       "      <td>134.873823</td>\n",
       "      <td>135.065889</td>\n",
       "      <td>135.721780</td>\n",
       "      <td>NaN</td>\n",
       "    </tr>\n",
       "    <tr>\n",
       "      <th>1</th>\n",
       "      <td>2</td>\n",
       "      <td>Afghanistan</td>\n",
       "      <td>AFG</td>\n",
       "      <td>Mobile cellular subscriptions (per 100 people)</td>\n",
       "      <td>0.0</td>\n",
       "      <td>NaN</td>\n",
       "      <td>NaN</td>\n",
       "      <td>NaN</td>\n",
       "      <td>NaN</td>\n",
       "      <td>0.0</td>\n",
       "      <td>...</td>\n",
       "      <td>17.716243</td>\n",
       "      <td>29.220374</td>\n",
       "      <td>37.894937</td>\n",
       "      <td>35.974039</td>\n",
       "      <td>47.406464</td>\n",
       "      <td>51.434547</td>\n",
       "      <td>55.012226</td>\n",
       "      <td>58.845471</td>\n",
       "      <td>61.577682</td>\n",
       "      <td>NaN</td>\n",
       "    </tr>\n",
       "    <tr>\n",
       "      <th>2</th>\n",
       "      <td>3</td>\n",
       "      <td>Angola</td>\n",
       "      <td>AGO</td>\n",
       "      <td>Mobile cellular subscriptions (per 100 people)</td>\n",
       "      <td>0.0</td>\n",
       "      <td>NaN</td>\n",
       "      <td>NaN</td>\n",
       "      <td>NaN</td>\n",
       "      <td>NaN</td>\n",
       "      <td>0.0</td>\n",
       "      <td>...</td>\n",
       "      <td>28.010982</td>\n",
       "      <td>36.983690</td>\n",
       "      <td>42.846573</td>\n",
       "      <td>48.101209</td>\n",
       "      <td>59.826189</td>\n",
       "      <td>61.406276</td>\n",
       "      <td>61.873297</td>\n",
       "      <td>63.479208</td>\n",
       "      <td>60.843896</td>\n",
       "      <td>NaN</td>\n",
       "    </tr>\n",
       "    <tr>\n",
       "      <th>3</th>\n",
       "      <td>4</td>\n",
       "      <td>Albania</td>\n",
       "      <td>ALB</td>\n",
       "      <td>Mobile cellular subscriptions (per 100 people)</td>\n",
       "      <td>0.0</td>\n",
       "      <td>NaN</td>\n",
       "      <td>NaN</td>\n",
       "      <td>NaN</td>\n",
       "      <td>NaN</td>\n",
       "      <td>0.0</td>\n",
       "      <td>...</td>\n",
       "      <td>73.350384</td>\n",
       "      <td>58.912351</td>\n",
       "      <td>78.184588</td>\n",
       "      <td>85.468247</td>\n",
       "      <td>98.291535</td>\n",
       "      <td>110.686532</td>\n",
       "      <td>116.157208</td>\n",
       "      <td>105.469966</td>\n",
       "      <td>106.380207</td>\n",
       "      <td>NaN</td>\n",
       "    </tr>\n",
       "    <tr>\n",
       "      <th>4</th>\n",
       "      <td>5</td>\n",
       "      <td>Andorra</td>\n",
       "      <td>AND</td>\n",
       "      <td>Mobile cellular subscriptions (per 100 people)</td>\n",
       "      <td>0.0</td>\n",
       "      <td>NaN</td>\n",
       "      <td>NaN</td>\n",
       "      <td>NaN</td>\n",
       "      <td>NaN</td>\n",
       "      <td>0.0</td>\n",
       "      <td>...</td>\n",
       "      <td>78.117158</td>\n",
       "      <td>80.283610</td>\n",
       "      <td>82.061811</td>\n",
       "      <td>84.068184</td>\n",
       "      <td>83.534322</td>\n",
       "      <td>81.502042</td>\n",
       "      <td>80.702618</td>\n",
       "      <td>82.643195</td>\n",
       "      <td>88.123533</td>\n",
       "      <td>NaN</td>\n",
       "    </tr>\n",
       "  </tbody>\n",
       "</table>\n",
       "<p>5 rows × 61 columns</p>\n",
       "</div>"
      ],
      "text/plain": [
       "   ﻿Index Country Name Country Code  \\\n",
       "0       1        Aruba          ABW   \n",
       "1       2  Afghanistan          AFG   \n",
       "2       3       Angola          AGO   \n",
       "3       4      Albania          ALB   \n",
       "4       5      Andorra          AND   \n",
       "\n",
       "                                   Indicator Name  1960  1961  1962  1963  \\\n",
       "0  Mobile cellular subscriptions (per 100 people)   0.0   NaN   NaN   NaN   \n",
       "1  Mobile cellular subscriptions (per 100 people)   0.0   NaN   NaN   NaN   \n",
       "2  Mobile cellular subscriptions (per 100 people)   0.0   NaN   NaN   NaN   \n",
       "3  Mobile cellular subscriptions (per 100 people)   0.0   NaN   NaN   NaN   \n",
       "4  Mobile cellular subscriptions (per 100 people)   0.0   NaN   NaN   NaN   \n",
       "\n",
       "   1964  1965  ...         2007        2008        2009        2010  \\\n",
       "0   NaN   0.0  ...   112.218062  119.203900  126.210337  129.728240   \n",
       "1   NaN   0.0  ...    17.716243   29.220374   37.894937   35.974039   \n",
       "2   NaN   0.0  ...    28.010982   36.983690   42.846573   48.101209   \n",
       "3   NaN   0.0  ...    73.350384   58.912351   78.184588   85.468247   \n",
       "4   NaN   0.0  ...    78.117158   80.283610   82.061811   84.068184   \n",
       "\n",
       "        2011        2012        2013        2014        2015  2016  \n",
       "0        NaN  131.856540  134.873823  135.065889  135.721780   NaN  \n",
       "1  47.406464   51.434547   55.012226   58.845471   61.577682   NaN  \n",
       "2  59.826189   61.406276   61.873297   63.479208   60.843896   NaN  \n",
       "3  98.291535  110.686532  116.157208  105.469966  106.380207   NaN  \n",
       "4  83.534322   81.502042   80.702618   82.643195   88.123533   NaN  \n",
       "\n",
       "[5 rows x 61 columns]"
      ]
     },
     "execution_count": 143,
     "metadata": {},
     "output_type": "execute_result"
    }
   ],
   "source": [
    "df.head()"
   ]
  },
  {
   "cell_type": "code",
   "execution_count": 144,
   "metadata": {
    "collapsed": true
   },
   "outputs": [],
   "source": [
    "In [0]: df=df.rename(columns = {'Country Name':'CountryName'})"
   ]
  },
  {
   "cell_type": "code",
   "execution_count": 145,
   "metadata": {
    "collapsed": true
   },
   "outputs": [],
   "source": [
    "df=df.rename(columns = {'Country Code':'CountryCode'})"
   ]
  },
  {
   "cell_type": "code",
   "execution_count": 146,
   "metadata": {
    "collapsed": false
   },
   "outputs": [
    {
     "data": {
      "text/plain": [
       "Index([u'﻿Index', u'CountryName', u'CountryCode', u'Indicator Name', u'1960',\n",
       "       u'1961', u'1962', u'1963', u'1964', u'1965', u'1966', u'1967', u'1968',\n",
       "       u'1969', u'1970', u'1971', u'1972', u'1973', u'1974', u'1975', u'1976',\n",
       "       u'1977', u'1978', u'1979', u'1980', u'1981', u'1982', u'1983', u'1984',\n",
       "       u'1985', u'1986', u'1987', u'1988', u'1989', u'1990', u'1991', u'1992',\n",
       "       u'1993', u'1994', u'1995', u'1996', u'1997', u'1998', u'1999', u'2000',\n",
       "       u'2001', u'2002', u'2003', u'2004', u'2005', u'2006', u'2007', u'2008',\n",
       "       u'2009', u'2010', u'2011', u'2012', u'2013', u'2014', u'2015', u'2016'],\n",
       "      dtype='object')"
      ]
     },
     "execution_count": 146,
     "metadata": {},
     "output_type": "execute_result"
    }
   ],
   "source": [
    "df.columns"
   ]
  },
  {
   "cell_type": "code",
   "execution_count": 147,
   "metadata": {
    "collapsed": true
   },
   "outputs": [],
   "source": [
    "df=df.rename(columns = {'Indicator Name':'IndicatorName'})"
   ]
  },
  {
   "cell_type": "code",
   "execution_count": 148,
   "metadata": {
    "collapsed": false
   },
   "outputs": [
    {
     "data": {
      "text/plain": [
       "Index([u'﻿Index', u'CountryName', u'CountryCode', u'IndicatorName', u'1960',\n",
       "       u'1961', u'1962', u'1963', u'1964', u'1965', u'1966', u'1967', u'1968',\n",
       "       u'1969', u'1970', u'1971', u'1972', u'1973', u'1974', u'1975', u'1976',\n",
       "       u'1977', u'1978', u'1979', u'1980', u'1981', u'1982', u'1983', u'1984',\n",
       "       u'1985', u'1986', u'1987', u'1988', u'1989', u'1990', u'1991', u'1992',\n",
       "       u'1993', u'1994', u'1995', u'1996', u'1997', u'1998', u'1999', u'2000',\n",
       "       u'2001', u'2002', u'2003', u'2004', u'2005', u'2006', u'2007', u'2008',\n",
       "       u'2009', u'2010', u'2011', u'2012', u'2013', u'2014', u'2015', u'2016'],\n",
       "      dtype='object')"
      ]
     },
     "execution_count": 148,
     "metadata": {},
     "output_type": "execute_result"
    }
   ],
   "source": [
    "df.columns"
   ]
  },
  {
   "cell_type": "code",
   "execution_count": 149,
   "metadata": {
    "collapsed": false,
    "scrolled": true
   },
   "outputs": [
    {
     "data": {
      "text/html": [
       "<div>\n",
       "<table border=\"1\" class=\"dataframe\">\n",
       "  <thead>\n",
       "    <tr style=\"text-align: right;\">\n",
       "      <th></th>\n",
       "      <th>﻿Index</th>\n",
       "      <th>CountryName</th>\n",
       "      <th>CountryCode</th>\n",
       "      <th>IndicatorName</th>\n",
       "      <th>1960</th>\n",
       "      <th>1961</th>\n",
       "      <th>1962</th>\n",
       "      <th>1963</th>\n",
       "      <th>1964</th>\n",
       "      <th>1965</th>\n",
       "      <th>...</th>\n",
       "      <th>2007</th>\n",
       "      <th>2008</th>\n",
       "      <th>2009</th>\n",
       "      <th>2010</th>\n",
       "      <th>2011</th>\n",
       "      <th>2012</th>\n",
       "      <th>2013</th>\n",
       "      <th>2014</th>\n",
       "      <th>2015</th>\n",
       "      <th>2016</th>\n",
       "    </tr>\n",
       "  </thead>\n",
       "  <tbody>\n",
       "    <tr>\n",
       "      <th>249</th>\n",
       "      <td>250</td>\n",
       "      <td>United States</td>\n",
       "      <td>USA</td>\n",
       "      <td>Mobile cellular subscriptions (per 100 people)</td>\n",
       "      <td>0.0</td>\n",
       "      <td>NaN</td>\n",
       "      <td>NaN</td>\n",
       "      <td>NaN</td>\n",
       "      <td>NaN</td>\n",
       "      <td>0.0</td>\n",
       "      <td>...</td>\n",
       "      <td>82.064145</td>\n",
       "      <td>85.209165</td>\n",
       "      <td>88.623646</td>\n",
       "      <td>91.311652</td>\n",
       "      <td>94.440426</td>\n",
       "      <td>96.010376</td>\n",
       "      <td>97.077739</td>\n",
       "      <td>110.204194</td>\n",
       "      <td>117.586744</td>\n",
       "      <td>NaN</td>\n",
       "    </tr>\n",
       "  </tbody>\n",
       "</table>\n",
       "<p>1 rows × 61 columns</p>\n",
       "</div>"
      ],
      "text/plain": [
       "     ﻿Index    CountryName CountryCode  \\\n",
       "249     250  United States         USA   \n",
       "\n",
       "                                      IndicatorName  1960  1961  1962  1963  \\\n",
       "249  Mobile cellular subscriptions (per 100 people)   0.0   NaN   NaN   NaN   \n",
       "\n",
       "     1964  1965  ...        2007       2008       2009       2010       2011  \\\n",
       "249   NaN   0.0  ...   82.064145  85.209165  88.623646  91.311652  94.440426   \n",
       "\n",
       "          2012       2013        2014        2015  2016  \n",
       "249  96.010376  97.077739  110.204194  117.586744   NaN  \n",
       "\n",
       "[1 rows x 61 columns]"
      ]
     },
     "execution_count": 149,
     "metadata": {},
     "output_type": "execute_result"
    }
   ],
   "source": [
    "df.ix[df.CountryName=='United States']"
   ]
  },
  {
   "cell_type": "code",
   "execution_count": 150,
   "metadata": {
    "collapsed": false
   },
   "outputs": [],
   "source": [
    "df.drop(['1960','1961','1962','1963','1964','1965','1966','1967','1968','1969','1970','1971','1972','1973','1974','1975','1976','1977','1978','1979','1980','1981','1982','1983','1984','1985','1986','1987','1988','1989'],axis=1,inplace=True)"
   ]
  },
  {
   "cell_type": "code",
   "execution_count": 152,
   "metadata": {
    "collapsed": false
   },
   "outputs": [
    {
     "data": {
      "text/plain": [
       "Index([u'﻿Index', u'CountryName', u'CountryCode', u'IndicatorName', u'1990',\n",
       "       u'1991', u'1992', u'1993', u'1994', u'1995', u'1996', u'1997', u'1998',\n",
       "       u'1999', u'2000', u'2001', u'2002', u'2003', u'2004', u'2005', u'2006',\n",
       "       u'2007', u'2008', u'2009', u'2010', u'2011', u'2012', u'2013', u'2014',\n",
       "       u'2015', u'2016'],\n",
       "      dtype='object')"
      ]
     },
     "execution_count": 152,
     "metadata": {},
     "output_type": "execute_result"
    }
   ],
   "source": [
    "df.columns"
   ]
  },
  {
   "cell_type": "code",
   "execution_count": 156,
   "metadata": {
    "collapsed": false
   },
   "outputs": [],
   "source": [
    "df=df.ix[df.CountryName=='United States']"
   ]
  },
  {
   "cell_type": "code",
   "execution_count": 157,
   "metadata": {
    "collapsed": false
   },
   "outputs": [
    {
     "data": {
      "text/html": [
       "<div>\n",
       "<table border=\"1\" class=\"dataframe\">\n",
       "  <thead>\n",
       "    <tr style=\"text-align: right;\">\n",
       "      <th></th>\n",
       "      <th>﻿Index</th>\n",
       "      <th>CountryName</th>\n",
       "      <th>CountryCode</th>\n",
       "      <th>IndicatorName</th>\n",
       "      <th>1990</th>\n",
       "      <th>1991</th>\n",
       "      <th>1992</th>\n",
       "      <th>1993</th>\n",
       "      <th>1994</th>\n",
       "      <th>1995</th>\n",
       "      <th>...</th>\n",
       "      <th>2007</th>\n",
       "      <th>2008</th>\n",
       "      <th>2009</th>\n",
       "      <th>2010</th>\n",
       "      <th>2011</th>\n",
       "      <th>2012</th>\n",
       "      <th>2013</th>\n",
       "      <th>2014</th>\n",
       "      <th>2015</th>\n",
       "      <th>2016</th>\n",
       "    </tr>\n",
       "  </thead>\n",
       "  <tbody>\n",
       "    <tr>\n",
       "      <th>249</th>\n",
       "      <td>250</td>\n",
       "      <td>United States</td>\n",
       "      <td>USA</td>\n",
       "      <td>Mobile cellular subscriptions (per 100 people)</td>\n",
       "      <td>2.075802</td>\n",
       "      <td>2.939644</td>\n",
       "      <td>4.249049</td>\n",
       "      <td>6.103717</td>\n",
       "      <td>9.104921</td>\n",
       "      <td>12.604725</td>\n",
       "      <td>...</td>\n",
       "      <td>82.064145</td>\n",
       "      <td>85.209165</td>\n",
       "      <td>88.623646</td>\n",
       "      <td>91.311652</td>\n",
       "      <td>94.440426</td>\n",
       "      <td>96.010376</td>\n",
       "      <td>97.077739</td>\n",
       "      <td>110.204194</td>\n",
       "      <td>117.586744</td>\n",
       "      <td>NaN</td>\n",
       "    </tr>\n",
       "  </tbody>\n",
       "</table>\n",
       "<p>1 rows × 31 columns</p>\n",
       "</div>"
      ],
      "text/plain": [
       "     ﻿Index    CountryName CountryCode  \\\n",
       "249     250  United States         USA   \n",
       "\n",
       "                                      IndicatorName      1990      1991  \\\n",
       "249  Mobile cellular subscriptions (per 100 people)  2.075802  2.939644   \n",
       "\n",
       "         1992      1993      1994       1995  ...        2007       2008  \\\n",
       "249  4.249049  6.103717  9.104921  12.604725  ...   82.064145  85.209165   \n",
       "\n",
       "          2009       2010       2011       2012       2013        2014  \\\n",
       "249  88.623646  91.311652  94.440426  96.010376  97.077739  110.204194   \n",
       "\n",
       "           2015  2016  \n",
       "249  117.586744   NaN  \n",
       "\n",
       "[1 rows x 31 columns]"
      ]
     },
     "execution_count": 157,
     "metadata": {},
     "output_type": "execute_result"
    }
   ],
   "source": [
    "df.head()"
   ]
  },
  {
   "cell_type": "code",
   "execution_count": 158,
   "metadata": {
    "collapsed": true
   },
   "outputs": [],
   "source": [
    "df.to_csv('cleaned_IncreasePopu.csv')"
   ]
  },
  {
   "cell_type": "code",
   "execution_count": null,
   "metadata": {
    "collapsed": true
   },
   "outputs": [],
   "source": []
  },
  {
   "cell_type": "code",
   "execution_count": null,
   "metadata": {
    "collapsed": true
   },
   "outputs": [],
   "source": []
  },
  {
   "cell_type": "code",
   "execution_count": null,
   "metadata": {
    "collapsed": true
   },
   "outputs": [],
   "source": []
  },
  {
   "cell_type": "code",
   "execution_count": 277,
   "metadata": {
    "collapsed": false
   },
   "outputs": [
    {
     "ename": "AttributeError",
     "evalue": "'NoneType' object has no attribute 'multiply'",
     "output_type": "error",
     "traceback": [
      "\u001b[1;31m---------------------------------------------------------------------------\u001b[0m",
      "\u001b[1;31mAttributeError\u001b[0m                            Traceback (most recent call last)",
      "\u001b[1;32m<ipython-input-277-61ac4150dca3>\u001b[0m in \u001b[0;36m<module>\u001b[1;34m()\u001b[0m\n\u001b[1;32m----> 1\u001b[1;33m \u001b[0mda\u001b[0m\u001b[1;33m=\u001b[0m\u001b[0mrs\u001b[0m\u001b[1;33m.\u001b[0m\u001b[0mmultiply\u001b[0m\u001b[1;33m(\u001b[0m\u001b[1;36m1000\u001b[0m\u001b[1;33m,\u001b[0m\u001b[0maxis\u001b[0m\u001b[1;33m=\u001b[0m\u001b[1;33m[\u001b[0m\u001b[1;34m'1'\u001b[0m\u001b[1;33m,\u001b[0m\u001b[1;34m'45'\u001b[0m\u001b[1;33m,\u001b[0m\u001b[1;34m'46'\u001b[0m\u001b[1;33m,\u001b[0m\u001b[1;34m'47'\u001b[0m\u001b[1;33m]\u001b[0m\u001b[1;33m)\u001b[0m\u001b[1;33m\u001b[0m\u001b[0m\n\u001b[0m",
      "\u001b[1;31mAttributeError\u001b[0m: 'NoneType' object has no attribute 'multiply'"
     ]
    }
   ],
   "source": [
    "da=rs.multiply(1000,axis=['1','45','46','47'])"
   ]
  },
  {
   "cell_type": "code",
   "execution_count": 218,
   "metadata": {
    "collapsed": false
   },
   "outputs": [
    {
     "data": {
      "text/html": [
       "<div>\n",
       "<table border=\"1\" class=\"dataframe\">\n",
       "  <thead>\n",
       "    <tr style=\"text-align: right;\">\n",
       "      <th></th>\n",
       "      <th>﻿Index</th>\n",
       "      <th>CountryName</th>\n",
       "      <th>CountryCode</th>\n",
       "      <th>IndicatorName</th>\n",
       "      <th>1960</th>\n",
       "      <th>1961</th>\n",
       "      <th>1962</th>\n",
       "      <th>1963</th>\n",
       "      <th>1964</th>\n",
       "      <th>1965</th>\n",
       "      <th>...</th>\n",
       "      <th>2007</th>\n",
       "      <th>2008</th>\n",
       "      <th>2009</th>\n",
       "      <th>2010</th>\n",
       "      <th>2011</th>\n",
       "      <th>2012</th>\n",
       "      <th>2013</th>\n",
       "      <th>2014</th>\n",
       "      <th>2015</th>\n",
       "      <th>2016</th>\n",
       "    </tr>\n",
       "  </thead>\n",
       "  <tbody>\n",
       "    <tr>\n",
       "      <th>249</th>\n",
       "      <td>250000</td>\n",
       "      <td>United StatesUnited StatesUnited StatesUnited ...</td>\n",
       "      <td>USAUSAUSAUSAUSAUSAUSAUSAUSAUSAUSAUSAUSAUSAUSAU...</td>\n",
       "      <td>Mobile cellular subscriptions (per 100 people)...</td>\n",
       "      <td>0.0</td>\n",
       "      <td>NaN</td>\n",
       "      <td>NaN</td>\n",
       "      <td>NaN</td>\n",
       "      <td>NaN</td>\n",
       "      <td>0.0</td>\n",
       "      <td>...</td>\n",
       "      <td>82064.14479</td>\n",
       "      <td>85209.16517</td>\n",
       "      <td>88623.64611</td>\n",
       "      <td>91311.65202</td>\n",
       "      <td>94440.42596</td>\n",
       "      <td>96010.37609</td>\n",
       "      <td>97077.73939</td>\n",
       "      <td>110204.1935</td>\n",
       "      <td>117586.7444</td>\n",
       "      <td>NaN</td>\n",
       "    </tr>\n",
       "  </tbody>\n",
       "</table>\n",
       "<p>1 rows × 61 columns</p>\n",
       "</div>"
      ],
      "text/plain": [
       "     ﻿Index                                        CountryName  \\\n",
       "249  250000  United StatesUnited StatesUnited StatesUnited ...   \n",
       "\n",
       "                                           CountryCode  \\\n",
       "249  USAUSAUSAUSAUSAUSAUSAUSAUSAUSAUSAUSAUSAUSAUSAU...   \n",
       "\n",
       "                                         IndicatorName  1960  1961  1962  \\\n",
       "249  Mobile cellular subscriptions (per 100 people)...   0.0   NaN   NaN   \n",
       "\n",
       "     1963  1964  1965  ...          2007         2008         2009  \\\n",
       "249   NaN   NaN   0.0  ...   82064.14479  85209.16517  88623.64611   \n",
       "\n",
       "            2010         2011         2012         2013         2014  \\\n",
       "249  91311.65202  94440.42596  96010.37609  97077.73939  110204.1935   \n",
       "\n",
       "            2015  2016  \n",
       "249  117586.7444   NaN  \n",
       "\n",
       "[1 rows x 61 columns]"
      ]
     },
     "execution_count": 218,
     "metadata": {},
     "output_type": "execute_result"
    }
   ],
   "source": [
    "da.head()"
   ]
  },
  {
   "cell_type": "code",
   "execution_count": null,
   "metadata": {
    "collapsed": true
   },
   "outputs": [],
   "source": []
  },
  {
   "cell_type": "code",
   "execution_count": 200,
   "metadata": {
    "collapsed": true
   },
   "outputs": [],
   "source": [
    "dn=rs.multiply(1000,axis=40,level=int)"
   ]
  },
  {
   "cell_type": "code",
   "execution_count": 201,
   "metadata": {
    "collapsed": false
   },
   "outputs": [
    {
     "data": {
      "text/html": [
       "<div>\n",
       "<table border=\"1\" class=\"dataframe\">\n",
       "  <thead>\n",
       "    <tr style=\"text-align: right;\">\n",
       "      <th></th>\n",
       "      <th>﻿Index</th>\n",
       "      <th>CountryName</th>\n",
       "      <th>CountryCode</th>\n",
       "      <th>IndicatorName</th>\n",
       "      <th>1975</th>\n",
       "      <th>1976</th>\n",
       "      <th>1977</th>\n",
       "      <th>1978</th>\n",
       "      <th>1979</th>\n",
       "      <th>1980</th>\n",
       "      <th>...</th>\n",
       "      <th>2005</th>\n",
       "      <th>2006</th>\n",
       "      <th>2007</th>\n",
       "      <th>2008</th>\n",
       "      <th>2009</th>\n",
       "      <th>2010</th>\n",
       "      <th>2011</th>\n",
       "      <th>2012</th>\n",
       "      <th>2013</th>\n",
       "      <th>2014</th>\n",
       "    </tr>\n",
       "  </thead>\n",
       "  <tbody>\n",
       "    <tr>\n",
       "      <th>249</th>\n",
       "      <td>250000</td>\n",
       "      <td>United StatesUnited StatesUnited StatesUnited ...</td>\n",
       "      <td>USAUSAUSAUSAUSAUSAUSAUSAUSAUSAUSAUSAUSAUSAUSAU...</td>\n",
       "      <td>Mobile cellular subscriptions (per 100 people)...</td>\n",
       "      <td>0.0</td>\n",
       "      <td>0.0</td>\n",
       "      <td>0.0</td>\n",
       "      <td>0.0</td>\n",
       "      <td>0.0</td>\n",
       "      <td>0.0</td>\n",
       "      <td>...</td>\n",
       "      <td>68317.69507</td>\n",
       "      <td>76293.53842</td>\n",
       "      <td>82064.14479</td>\n",
       "      <td>85209.16517</td>\n",
       "      <td>88623.64611</td>\n",
       "      <td>91311.65202</td>\n",
       "      <td>94440.42596</td>\n",
       "      <td>96010.37609</td>\n",
       "      <td>97077.73939</td>\n",
       "      <td>110204.1935</td>\n",
       "    </tr>\n",
       "  </tbody>\n",
       "</table>\n",
       "<p>1 rows × 44 columns</p>\n",
       "</div>"
      ],
      "text/plain": [
       "     ﻿Index                                        CountryName  \\\n",
       "249  250000  United StatesUnited StatesUnited StatesUnited ...   \n",
       "\n",
       "                                           CountryCode  \\\n",
       "249  USAUSAUSAUSAUSAUSAUSAUSAUSAUSAUSAUSAUSAUSAUSAU...   \n",
       "\n",
       "                                         IndicatorName  1975  1976  1977  \\\n",
       "249  Mobile cellular subscriptions (per 100 people)...   0.0   0.0   0.0   \n",
       "\n",
       "     1978  1979  1980     ...              2005         2006         2007  \\\n",
       "249   0.0   0.0   0.0     ...       68317.69507  76293.53842  82064.14479   \n",
       "\n",
       "            2008         2009         2010         2011         2012  \\\n",
       "249  85209.16517  88623.64611  91311.65202  94440.42596  96010.37609   \n",
       "\n",
       "            2013         2014  \n",
       "249  97077.73939  110204.1935  \n",
       "\n",
       "[1 rows x 44 columns]"
      ]
     },
     "execution_count": 201,
     "metadata": {},
     "output_type": "execute_result"
    }
   ],
   "source": [
    "dn.head()"
   ]
  },
  {
   "cell_type": "code",
   "execution_count": null,
   "metadata": {
    "collapsed": true
   },
   "outputs": [],
   "source": []
  }
 ],
 "metadata": {
  "kernelspec": {
   "display_name": "Python 2",
   "language": "python",
   "name": "python2"
  },
  "language_info": {
   "codemirror_mode": {
    "name": "ipython",
    "version": 2
   },
   "file_extension": ".py",
   "mimetype": "text/x-python",
   "name": "python",
   "nbconvert_exporter": "python",
   "pygments_lexer": "ipython2",
   "version": "2.7.11"
  }
 },
 "nbformat": 4,
 "nbformat_minor": 0
}
