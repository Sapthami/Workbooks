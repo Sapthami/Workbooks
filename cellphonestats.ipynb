{
 "cells": [
  {
   "cell_type": "code",
   "execution_count": 31,
   "metadata": {
    "collapsed": true
   },
   "outputs": [],
   "source": [
    "from IPython.core.interactiveshell import InteractiveShell\n",
    "InteractiveShell.ast_node_interactivity = \"all\"\n",
    "\n",
    "import pandas as pd"
   ]
  },
  {
   "cell_type": "code",
   "execution_count": 32,
   "metadata": {
    "collapsed": true
   },
   "outputs": [],
   "source": [
    "cellstats=pd.read_csv('cellstats.csv')"
   ]
  },
  {
   "cell_type": "code",
   "execution_count": 33,
   "metadata": {
    "collapsed": false
   },
   "outputs": [
    {
     "data": {
      "text/html": [
       "<div>\n",
       "<table border=\"1\" class=\"dataframe\">\n",
       "  <thead>\n",
       "    <tr style=\"text-align: right;\">\n",
       "      <th></th>\n",
       "      <th>﻿Age</th>\n",
       "      <th>typeofphone</th>\n",
       "      <th>2001</th>\n",
       "      <th>2002</th>\n",
       "      <th>2003</th>\n",
       "      <th>2004</th>\n",
       "      <th>2005</th>\n",
       "      <th>2006</th>\n",
       "      <th>2007</th>\n",
       "    </tr>\n",
       "  </thead>\n",
       "  <tbody>\n",
       "    <tr>\n",
       "      <th>0</th>\n",
       "      <td>under 25</td>\n",
       "      <td>cellular phone</td>\n",
       "      <td>26.3</td>\n",
       "      <td>40.4</td>\n",
       "      <td>50.9</td>\n",
       "      <td>57.8</td>\n",
       "      <td>63.4</td>\n",
       "      <td>69.5</td>\n",
       "      <td>75.2</td>\n",
       "    </tr>\n",
       "    <tr>\n",
       "      <th>1</th>\n",
       "      <td>25-34 yrs</td>\n",
       "      <td>cellular phone</td>\n",
       "      <td>26.3</td>\n",
       "      <td>34.9</td>\n",
       "      <td>37.6</td>\n",
       "      <td>45.2</td>\n",
       "      <td>52.0</td>\n",
       "      <td>58.3</td>\n",
       "      <td>66.5</td>\n",
       "    </tr>\n",
       "    <tr>\n",
       "      <th>2</th>\n",
       "      <td>35-44 yrs</td>\n",
       "      <td>cellular phone</td>\n",
       "      <td>24.6</td>\n",
       "      <td>32.7</td>\n",
       "      <td>34.6</td>\n",
       "      <td>39.4</td>\n",
       "      <td>45.1</td>\n",
       "      <td>51.1</td>\n",
       "      <td>58.5</td>\n",
       "    </tr>\n",
       "    <tr>\n",
       "      <th>3</th>\n",
       "      <td>45-54 yrs</td>\n",
       "      <td>cellular phone</td>\n",
       "      <td>25.0</td>\n",
       "      <td>32.9</td>\n",
       "      <td>35.7</td>\n",
       "      <td>40.7</td>\n",
       "      <td>44.6</td>\n",
       "      <td>49.4</td>\n",
       "      <td>56.6</td>\n",
       "    </tr>\n",
       "    <tr>\n",
       "      <th>4</th>\n",
       "      <td>55-64 yrs</td>\n",
       "      <td>cellular phone</td>\n",
       "      <td>21.0</td>\n",
       "      <td>27.1</td>\n",
       "      <td>29.0</td>\n",
       "      <td>34.0</td>\n",
       "      <td>39.2</td>\n",
       "      <td>42.7</td>\n",
       "      <td>48.1</td>\n",
       "    </tr>\n",
       "  </tbody>\n",
       "</table>\n",
       "</div>"
      ],
      "text/plain": [
       "        ﻿Age     typeofphone  2001  2002  2003  2004  2005  2006  2007\n",
       "0  under 25   cellular phone  26.3  40.4  50.9  57.8  63.4  69.5  75.2\n",
       "1  25-34 yrs  cellular phone  26.3  34.9  37.6  45.2  52.0  58.3  66.5\n",
       "2  35-44 yrs  cellular phone  24.6  32.7  34.6  39.4  45.1  51.1  58.5\n",
       "3  45-54 yrs  cellular phone  25.0  32.9  35.7  40.7  44.6  49.4  56.6\n",
       "4  55-64 yrs  cellular phone  21.0  27.1  29.0  34.0  39.2  42.7  48.1"
      ]
     },
     "execution_count": 33,
     "metadata": {},
     "output_type": "execute_result"
    }
   ],
   "source": [
    "cellstats.head()"
   ]
  },
  {
   "cell_type": "code",
   "execution_count": 34,
   "metadata": {
    "collapsed": false
   },
   "outputs": [],
   "source": [
    "cellstats.drop(['typeofphone'],axis=1,inplace=True)"
   ]
  },
  {
   "cell_type": "code",
   "execution_count": 35,
   "metadata": {
    "collapsed": false
   },
   "outputs": [
    {
     "data": {
      "text/html": [
       "<div>\n",
       "<table border=\"1\" class=\"dataframe\">\n",
       "  <thead>\n",
       "    <tr style=\"text-align: right;\">\n",
       "      <th></th>\n",
       "      <th>﻿Age</th>\n",
       "      <th>2001</th>\n",
       "      <th>2002</th>\n",
       "      <th>2003</th>\n",
       "      <th>2004</th>\n",
       "      <th>2005</th>\n",
       "      <th>2006</th>\n",
       "      <th>2007</th>\n",
       "    </tr>\n",
       "  </thead>\n",
       "  <tbody>\n",
       "    <tr>\n",
       "      <th>1</th>\n",
       "      <td>25-34 yrs</td>\n",
       "      <td>26.3</td>\n",
       "      <td>34.9</td>\n",
       "      <td>37.6</td>\n",
       "      <td>45.2</td>\n",
       "      <td>52.0</td>\n",
       "      <td>58.3</td>\n",
       "      <td>66.5</td>\n",
       "    </tr>\n",
       "    <tr>\n",
       "      <th>2</th>\n",
       "      <td>35-44 yrs</td>\n",
       "      <td>24.6</td>\n",
       "      <td>32.7</td>\n",
       "      <td>34.6</td>\n",
       "      <td>39.4</td>\n",
       "      <td>45.1</td>\n",
       "      <td>51.1</td>\n",
       "      <td>58.5</td>\n",
       "    </tr>\n",
       "    <tr>\n",
       "      <th>3</th>\n",
       "      <td>45-54 yrs</td>\n",
       "      <td>25.0</td>\n",
       "      <td>32.9</td>\n",
       "      <td>35.7</td>\n",
       "      <td>40.7</td>\n",
       "      <td>44.6</td>\n",
       "      <td>49.4</td>\n",
       "      <td>56.6</td>\n",
       "    </tr>\n",
       "    <tr>\n",
       "      <th>4</th>\n",
       "      <td>55-64 yrs</td>\n",
       "      <td>21.0</td>\n",
       "      <td>27.1</td>\n",
       "      <td>29.0</td>\n",
       "      <td>34.0</td>\n",
       "      <td>39.2</td>\n",
       "      <td>42.7</td>\n",
       "      <td>48.1</td>\n",
       "    </tr>\n",
       "    <tr>\n",
       "      <th>5</th>\n",
       "      <td>65 and above</td>\n",
       "      <td>13.1</td>\n",
       "      <td>18.2</td>\n",
       "      <td>18.2</td>\n",
       "      <td>20.8</td>\n",
       "      <td>24.6</td>\n",
       "      <td>27.7</td>\n",
       "      <td>32.8</td>\n",
       "    </tr>\n",
       "  </tbody>\n",
       "</table>\n",
       "</div>"
      ],
      "text/plain": [
       "           ﻿Age  2001  2002  2003  2004  2005  2006  2007\n",
       "1     25-34 yrs  26.3  34.9  37.6  45.2  52.0  58.3  66.5\n",
       "2     35-44 yrs  24.6  32.7  34.6  39.4  45.1  51.1  58.5\n",
       "3     45-54 yrs  25.0  32.9  35.7  40.7  44.6  49.4  56.6\n",
       "4     55-64 yrs  21.0  27.1  29.0  34.0  39.2  42.7  48.1\n",
       "5  65 and above  13.1  18.2  18.2  20.8  24.6  27.7  32.8"
      ]
     },
     "execution_count": 35,
     "metadata": {},
     "output_type": "execute_result"
    }
   ],
   "source": [
    "cellstats.tail()"
   ]
  },
  {
   "cell_type": "code",
   "execution_count": 37,
   "metadata": {
    "collapsed": false
   },
   "outputs": [],
   "source": [
    "cellstats.to_csv('cleaned_cellstast.csv')"
   ]
  },
  {
   "cell_type": "code",
   "execution_count": null,
   "metadata": {
    "collapsed": true
   },
   "outputs": [],
   "source": []
  }
 ],
 "metadata": {
  "kernelspec": {
   "display_name": "Python 2",
   "language": "python",
   "name": "python2"
  },
  "language_info": {
   "codemirror_mode": {
    "name": "ipython",
    "version": 2
   },
   "file_extension": ".py",
   "mimetype": "text/x-python",
   "name": "python",
   "nbconvert_exporter": "python",
   "pygments_lexer": "ipython2",
   "version": "2.7.11"
  }
 },
 "nbformat": 4,
 "nbformat_minor": 0
}
